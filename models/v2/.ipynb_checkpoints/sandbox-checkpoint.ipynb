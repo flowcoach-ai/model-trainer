{
 "cells": [
  {
   "cell_type": "code",
   "execution_count": 1,
   "metadata": {
    "collapsed": true,
    "ExecuteTime": {
     "start_time": "2023-08-25T04:41:11.240015Z",
     "end_time": "2023-08-25T04:41:12.604384Z"
    }
   },
   "outputs": [
    {
     "name": "stdout",
     "output_type": "stream",
     "text": [
      "101\n",
      "404\n",
      "15\n"
     ]
    }
   ],
   "source": [
    "from torch import nn\n",
    "import torch.nn.functional as F\n",
    "import torch\n",
    "INPUT_DIM = 101 # X is 101-dimensional\n",
    "HIDDEN_DIM = INPUT_DIM * 4 # Center-most latent space vector will have length of 404\n",
    "NUM_CLASSES = 15 # 16 classes\n",
    "\n",
    "print(INPUT_DIM)\n",
    "print(HIDDEN_DIM)\n",
    "print(NUM_CLASSES)\n"
   ]
  },
  {
   "cell_type": "code",
   "execution_count": 2,
   "outputs": [
    {
     "name": "stdout",
     "output_type": "stream",
     "text": [
      "<bound method Module.named_parameters of MLP(\n",
      "  (fc1): Linear(in_features=101, out_features=202, bias=True)\n",
      "  (fc2): Linear(in_features=202, out_features=404, bias=True)\n",
      "  (fc3): Linear(in_features=404, out_features=202, bias=True)\n",
      "  (fc4): Linear(in_features=202, out_features=101, bias=True)\n",
      "  (fc5): Linear(in_features=101, out_features=50, bias=True)\n",
      "  (fc6): Linear(in_features=50, out_features=15, bias=True)\n",
      ")>\n"
     ]
    }
   ],
   "source": [
    "class MLP(nn.Module):\n",
    "    def __init__(self, input_dim, hidden_dim, num_classes):\n",
    "        super(MLP, self).__init__()\n",
    "        self.fc1 = nn.Linear(input_dim, input_dim * 2)\n",
    "        self.fc2 = nn.Linear(input_dim * 2, hidden_dim)\n",
    "        self.fc3 = nn.Linear(hidden_dim, int(hidden_dim / 2))\n",
    "        self.fc4 = nn.Linear(int(hidden_dim / 2), int(hidden_dim / 4))\n",
    "        self.fc5 = nn.Linear(int(hidden_dim / 4), int(hidden_dim / 8))\n",
    "        self.fc6 = nn.Linear(int(hidden_dim / 8), num_classes)\n",
    "\n",
    "    def forward(self, x_in):\n",
    "        z = F.relu(self.fc1(x_in))  # ReLU activation function added!\n",
    "        z = F.relu(self.fc2(z))\n",
    "        z = F.relu(self.fc3(z))\n",
    "        z = F.relu(self.fc4(z))\n",
    "        z = F.relu(self.fc5(z))\n",
    "        z = self.fc6(z)\n",
    "        return z\n",
    "\n",
    "\n",
    "# Initialize model\n",
    "model = MLP(input_dim=INPUT_DIM, hidden_dim=HIDDEN_DIM, num_classes=NUM_CLASSES)\n",
    "print(model.named_parameters)"
   ],
   "metadata": {
    "collapsed": false,
    "ExecuteTime": {
     "start_time": "2023-08-25T04:41:12.610234Z",
     "end_time": "2023-08-25T04:41:12.615086Z"
    }
   }
  },
  {
   "cell_type": "code",
   "execution_count": 3,
   "outputs": [
    {
     "data": {
      "text/plain": "MLP(\n  (fc1): Linear(in_features=101, out_features=202, bias=True)\n  (fc2): Linear(in_features=202, out_features=404, bias=True)\n  (fc3): Linear(in_features=404, out_features=202, bias=True)\n  (fc4): Linear(in_features=202, out_features=101, bias=True)\n  (fc5): Linear(in_features=101, out_features=50, bias=True)\n  (fc6): Linear(in_features=50, out_features=15, bias=True)\n)"
     },
     "execution_count": 3,
     "metadata": {},
     "output_type": "execute_result"
    }
   ],
   "source": [
    "checkpoint = torch.load('model.pt')\n",
    "model.load_state_dict(checkpoint['model_state_dict'])\n",
    "model.eval()"
   ],
   "metadata": {
    "collapsed": false,
    "ExecuteTime": {
     "start_time": "2023-08-25T04:41:12.616543Z",
     "end_time": "2023-08-25T04:41:12.645129Z"
    }
   }
  },
  {
   "cell_type": "code",
   "execution_count": 3,
   "outputs": [],
   "source": [
    "\"\"\"\"# Inputs for inference\n",
    "X_infer = pd.DataFrame([{\"NOSE_X\": 0.1, \"NOSE_Y\": 0.1, etc...}]) # all 101(or 102?) features\n",
    "# Standardize\n",
    "X_infer = X_scaler.transform(X_infer)\n",
    "print (X_infer)\n",
    "[[0.22746497 0.29242354]]\n",
    "# Predict\n",
    "y_infer = F.softmax(model(torch.Tensor(X_infer)), dim=1)\n",
    "prob, _class = y_infer.max(dim=1)\n",
    "label = label_encoder.inverse_transform(_class.detach().numpy())[0]\n",
    "print (f\"The probability that you have {label} is {prob.detach().numpy()[0]*100.\n",
    "\"\"\""
   ],
   "metadata": {
    "collapsed": false,
    "ExecuteTime": {
     "start_time": "2023-08-25T04:41:12.634643Z",
     "end_time": "2023-08-25T04:41:12.645337Z"
    }
   }
  }
 ],
 "metadata": {
  "kernelspec": {
   "display_name": "Python 3",
   "language": "python",
   "name": "python3"
  },
  "language_info": {
   "codemirror_mode": {
    "name": "ipython",
    "version": 2
   },
   "file_extension": ".py",
   "mimetype": "text/x-python",
   "name": "python",
   "nbconvert_exporter": "python",
   "pygments_lexer": "ipython2",
   "version": "2.7.6"
  }
 },
 "nbformat": 4,
 "nbformat_minor": 0
}
