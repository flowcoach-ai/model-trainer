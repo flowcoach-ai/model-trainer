{
 "cells": [
  {
   "cell_type": "code",
   "execution_count": 6,
   "outputs": [],
   "source": [
    "import numpy as np\n",
    "import random\n",
    "import os\n",
    "SEED = 1234\n",
    "# Set seed for reproducibility\n",
    "np.random.seed(SEED)\n",
    "random.seed(SEED)\n"
   ],
   "metadata": {
    "collapsed": false,
    "ExecuteTime": {
     "start_time": "2023-08-24T21:22:06.936093Z",
     "end_time": "2023-08-24T21:22:06.941126Z"
    }
   }
  },
  {
   "cell_type": "code",
   "execution_count": 7,
   "outputs": [
    {
     "data": {
      "text/plain": "         X1        X2 color\n0 -0.054017  0.508159    c3\n1 -0.054017  0.508159    c3\n2  0.019870 -0.703126    c1\n3  0.311513 -0.664028    c1\n4 -0.127751 -0.011382    c3",
      "text/html": "<div>\n<style scoped>\n    .dataframe tbody tr th:only-of-type {\n        vertical-align: middle;\n    }\n\n    .dataframe tbody tr th {\n        vertical-align: top;\n    }\n\n    .dataframe thead th {\n        text-align: right;\n    }\n</style>\n<table border=\"1\" class=\"dataframe\">\n  <thead>\n    <tr style=\"text-align: right;\">\n      <th></th>\n      <th>X1</th>\n      <th>X2</th>\n      <th>color</th>\n    </tr>\n  </thead>\n  <tbody>\n    <tr>\n      <th>0</th>\n      <td>-0.054017</td>\n      <td>0.508159</td>\n      <td>c3</td>\n    </tr>\n    <tr>\n      <th>1</th>\n      <td>-0.054017</td>\n      <td>0.508159</td>\n      <td>c3</td>\n    </tr>\n    <tr>\n      <th>2</th>\n      <td>0.019870</td>\n      <td>-0.703126</td>\n      <td>c1</td>\n    </tr>\n    <tr>\n      <th>3</th>\n      <td>0.311513</td>\n      <td>-0.664028</td>\n      <td>c1</td>\n    </tr>\n    <tr>\n      <th>4</th>\n      <td>-0.127751</td>\n      <td>-0.011382</td>\n      <td>c3</td>\n    </tr>\n  </tbody>\n</table>\n</div>"
     },
     "execution_count": 7,
     "metadata": {},
     "output_type": "execute_result"
    }
   ],
   "source": [
    "import matplotlib.pyplot as plt\n",
    "import pandas as pd\n",
    "# Load data\n",
    "current_folder = globals()['_dh'][0]\n",
    "data_path = os.path.join(current_folder, 'data')\n",
    "url = os.path.join(data_path, 'fake.csv')\n",
    "df = pd.read_csv(url, header=0) # load\n",
    "df = df.sample(frac=1).reset_index(drop=True) # shuffle\n",
    "df.head()"
   ],
   "metadata": {
    "collapsed": false,
    "ExecuteTime": {
     "start_time": "2023-08-24T21:22:06.942543Z",
     "end_time": "2023-08-24T21:22:06.950673Z"
    }
   }
  },
  {
   "cell_type": "code",
   "execution_count": 8,
   "outputs": [
    {
     "name": "stdout",
     "output_type": "stream",
     "text": [
      "X:  (20, 2)\n",
      "y:  (20,)\n"
     ]
    }
   ],
   "source": [
    "# Data shapes\n",
    "X = df[[\"X1\", \"X2\"]].values\n",
    "y = df[\"color\"].values\n",
    "print (\"X: \", np.shape(X))\n",
    "print (\"y: \", np.shape(y))"
   ],
   "metadata": {
    "collapsed": false,
    "ExecuteTime": {
     "start_time": "2023-08-24T21:22:06.953900Z",
     "end_time": "2023-08-24T21:22:06.959996Z"
    }
   }
  },
  {
   "cell_type": "code",
   "execution_count": 9,
   "outputs": [],
   "source": [
    "import collections\n",
    "from sklearn.model_selection import train_test_split\n",
    "TRAIN_SIZE = 0.7\n",
    "VAL_SIZE = 0.15\n",
    "TEST_SIZE = 0.15\n",
    "def train_val_test_split(X, y, train_size):\n",
    "    \"\"\"Split dataset into data splits.\"\"\"\n",
    "    X_train, X_, y_train, y_ = train_test_split(X, y, train_size=TRAIN_SIZE, stratify=y)\n",
    "    X_val, X_test, y_val, y_test = train_test_split(X_, y_, train_size=0.5, stratify=y_)\n",
    "    return X_train, X_val, X_test, y_train, y_val, y_test"
   ],
   "metadata": {
    "collapsed": false,
    "ExecuteTime": {
     "start_time": "2023-08-24T21:22:23.298858Z",
     "end_time": "2023-08-24T21:22:24.134980Z"
    }
   }
  },
  {
   "cell_type": "code",
   "execution_count": 10,
   "outputs": [
    {
     "name": "stdout",
     "output_type": "stream",
     "text": [
      "X_train: (14, 2), y_train: (14,)\n",
      "X_val: (3, 2), y_val: (3,)\n",
      "X_test: (3, 2), y_test: (3,)\n",
      "Sample point: [ 0.311513 -0.664028] → c1\n"
     ]
    }
   ],
   "source": [
    "# Create data splits\n",
    "X_train, X_val, X_test, y_train, y_val, y_test = train_val_test_split(\n",
    "    X=X, y=y, train_size=TRAIN_SIZE)\n",
    "print (f\"X_train: {X_train.shape}, y_train: {y_train.shape}\")\n",
    "print (f\"X_val: {X_val.shape}, y_val: {y_val.shape}\")\n",
    "print (f\"X_test: {X_test.shape}, y_test: {y_test.shape}\")\n",
    "print (f\"Sample point: {X_train[0]} → {y_train[0]}\")\n"
   ],
   "metadata": {
    "collapsed": false,
    "ExecuteTime": {
     "start_time": "2023-08-24T21:22:36.751468Z",
     "end_time": "2023-08-24T21:22:36.763156Z"
    }
   }
  },
  {
   "cell_type": "code",
   "execution_count": 11,
   "outputs": [
    {
     "name": "stdout",
     "output_type": "stream",
     "text": [
      "[[-0.054017  0.508159]\n",
      " [-0.054017  0.508159]\n",
      " [ 0.01987  -0.703126]\n",
      " [ 0.311513 -0.664028]\n",
      " [-0.127751 -0.011382]\n",
      " [ 0.106737  0.114197]\n",
      " [-0.127751 -0.011382]\n",
      " [ 0.106737  0.114197]\n",
      " [-0.054017  0.508159]\n",
      " [-0.054017  0.508159]\n",
      " [ 0.01987  -0.703126]\n",
      " [ 0.311513 -0.664028]\n",
      " [ 0.106737  0.114197]\n",
      " [-0.127751 -0.011382]\n",
      " [ 0.01987  -0.703126]\n",
      " [ 0.311513 -0.664028]\n",
      " [-0.127751 -0.011382]\n",
      " [ 0.01987  -0.703126]\n",
      " [ 0.311513 -0.664028]\n",
      " [ 0.106737  0.114197]]\n"
     ]
    }
   ],
   "source": [
    "print(X)"
   ],
   "metadata": {
    "collapsed": false,
    "ExecuteTime": {
     "start_time": "2023-08-24T21:22:50.425989Z",
     "end_time": "2023-08-24T21:22:50.432305Z"
    }
   }
  },
  {
   "cell_type": "code",
   "execution_count": 12,
   "outputs": [
    {
     "name": "stdout",
     "output_type": "stream",
     "text": [
      "['c3' 'c3' 'c1' 'c1' 'c3' 'c1' 'c3' 'c1' 'c3' 'c3' 'c1' 'c1' 'c1' 'c3'\n",
      " 'c1' 'c1' 'c3' 'c1' 'c1' 'c1']\n"
     ]
    }
   ],
   "source": [
    "print(y)"
   ],
   "metadata": {
    "collapsed": false,
    "ExecuteTime": {
     "start_time": "2023-08-24T21:22:56.112821Z",
     "end_time": "2023-08-24T21:22:56.118522Z"
    }
   }
  },
  {
   "cell_type": "code",
   "execution_count": null,
   "outputs": [],
   "source": [],
   "metadata": {
    "collapsed": false
   }
  }
 ],
 "metadata": {
  "kernelspec": {
   "display_name": "Python 3",
   "language": "python",
   "name": "python3"
  },
  "language_info": {
   "codemirror_mode": {
    "name": "ipython",
    "version": 2
   },
   "file_extension": ".py",
   "mimetype": "text/x-python",
   "name": "python",
   "nbconvert_exporter": "python",
   "pygments_lexer": "ipython2",
   "version": "2.7.6"
  }
 },
 "nbformat": 4,
 "nbformat_minor": 0
}
