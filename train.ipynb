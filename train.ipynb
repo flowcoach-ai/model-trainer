{
 "cells": [
  {
   "cell_type": "markdown",
   "source": [
    "# Setup and Load Data"
   ],
   "metadata": {
    "collapsed": false
   }
  },
  {
   "cell_type": "code",
   "execution_count": 1,
   "outputs": [
    {
     "data": {
      "text/plain": "     NOSE_X    NOSE_Y    NOSE_Z  LEFT_EYE_INNER_X  LEFT_EYE_INNER_Y  \\\n0  0.520230  0.635046 -0.372716          0.535121          0.587382   \n1  0.630045  0.545611 -0.543785          0.655914          0.483179   \n2  0.553312  0.551331 -0.818429          0.573563          0.492558   \n3  0.499180  0.561680 -0.737946          0.518260          0.495814   \n4  0.578184  0.535424 -0.950630          0.597474          0.472747   \n\n   LEFT_EYE_INNER_Z  LEFT_EYE_X  LEFT_EYE_Y  LEFT_EYE_Z  LEFT_EYE_OUTER_X  \\\n0         -0.318471    0.545458    0.587426   -0.318122          0.555094   \n1         -0.517935    0.669563    0.486560   -0.517600          0.681861   \n2         -0.776206    0.585662    0.491515   -0.775922          0.597475   \n3         -0.707827    0.532650    0.491957   -0.707701          0.546015   \n4         -0.879421    0.611845    0.472694   -0.877219          0.625602   \n\n   ...  RIGHT_HEEL_Z  LEFT_FOOT_INDEX_X  LEFT_FOOT_INDEX_Y  LEFT_FOOT_INDEX_Z  \\\n0  ...     -0.078819           0.559809           2.670057          -0.281307   \n1  ...      0.366401           0.647351           2.974119           0.001294   \n2  ...      0.378935           0.564804           2.962438          -0.260139   \n3  ...      0.086125           0.555374           2.960517          -0.262226   \n4  ...      0.854012           0.602773           2.916028           0.155980   \n\n   RIGHT_FOOT_INDEX_X  RIGHT_FOOT_INDEX_Y  RIGHT_FOOT_INDEX_Z  IS_LOW_LUNGE  \\\n0            0.436801            2.701503           -0.490008             0   \n1            0.505877            2.966749           -0.051269             0   \n2            0.426746            2.957223           -0.107479             1   \n3            0.411628            2.966175           -0.381353             1   \n4            0.450033            2.930970            0.370374             1   \n\n   IS_CRESCENT_POSE                          INSTRUCTION  \n0                 1                     Raise your hands  \n1                 1  your arms up towards the sky as you  \n2                 0                         Have a drink  \n3                 0                        Drop an elbow  \n4                 0                       Push Your Knee  \n\n[5 rows x 102 columns]",
      "text/html": "<div>\n<style scoped>\n    .dataframe tbody tr th:only-of-type {\n        vertical-align: middle;\n    }\n\n    .dataframe tbody tr th {\n        vertical-align: top;\n    }\n\n    .dataframe thead th {\n        text-align: right;\n    }\n</style>\n<table border=\"1\" class=\"dataframe\">\n  <thead>\n    <tr style=\"text-align: right;\">\n      <th></th>\n      <th>NOSE_X</th>\n      <th>NOSE_Y</th>\n      <th>NOSE_Z</th>\n      <th>LEFT_EYE_INNER_X</th>\n      <th>LEFT_EYE_INNER_Y</th>\n      <th>LEFT_EYE_INNER_Z</th>\n      <th>LEFT_EYE_X</th>\n      <th>LEFT_EYE_Y</th>\n      <th>LEFT_EYE_Z</th>\n      <th>LEFT_EYE_OUTER_X</th>\n      <th>...</th>\n      <th>RIGHT_HEEL_Z</th>\n      <th>LEFT_FOOT_INDEX_X</th>\n      <th>LEFT_FOOT_INDEX_Y</th>\n      <th>LEFT_FOOT_INDEX_Z</th>\n      <th>RIGHT_FOOT_INDEX_X</th>\n      <th>RIGHT_FOOT_INDEX_Y</th>\n      <th>RIGHT_FOOT_INDEX_Z</th>\n      <th>IS_LOW_LUNGE</th>\n      <th>IS_CRESCENT_POSE</th>\n      <th>INSTRUCTION</th>\n    </tr>\n  </thead>\n  <tbody>\n    <tr>\n      <th>0</th>\n      <td>0.520230</td>\n      <td>0.635046</td>\n      <td>-0.372716</td>\n      <td>0.535121</td>\n      <td>0.587382</td>\n      <td>-0.318471</td>\n      <td>0.545458</td>\n      <td>0.587426</td>\n      <td>-0.318122</td>\n      <td>0.555094</td>\n      <td>...</td>\n      <td>-0.078819</td>\n      <td>0.559809</td>\n      <td>2.670057</td>\n      <td>-0.281307</td>\n      <td>0.436801</td>\n      <td>2.701503</td>\n      <td>-0.490008</td>\n      <td>0</td>\n      <td>1</td>\n      <td>Raise your hands</td>\n    </tr>\n    <tr>\n      <th>1</th>\n      <td>0.630045</td>\n      <td>0.545611</td>\n      <td>-0.543785</td>\n      <td>0.655914</td>\n      <td>0.483179</td>\n      <td>-0.517935</td>\n      <td>0.669563</td>\n      <td>0.486560</td>\n      <td>-0.517600</td>\n      <td>0.681861</td>\n      <td>...</td>\n      <td>0.366401</td>\n      <td>0.647351</td>\n      <td>2.974119</td>\n      <td>0.001294</td>\n      <td>0.505877</td>\n      <td>2.966749</td>\n      <td>-0.051269</td>\n      <td>0</td>\n      <td>1</td>\n      <td>your arms up towards the sky as you</td>\n    </tr>\n    <tr>\n      <th>2</th>\n      <td>0.553312</td>\n      <td>0.551331</td>\n      <td>-0.818429</td>\n      <td>0.573563</td>\n      <td>0.492558</td>\n      <td>-0.776206</td>\n      <td>0.585662</td>\n      <td>0.491515</td>\n      <td>-0.775922</td>\n      <td>0.597475</td>\n      <td>...</td>\n      <td>0.378935</td>\n      <td>0.564804</td>\n      <td>2.962438</td>\n      <td>-0.260139</td>\n      <td>0.426746</td>\n      <td>2.957223</td>\n      <td>-0.107479</td>\n      <td>1</td>\n      <td>0</td>\n      <td>Have a drink</td>\n    </tr>\n    <tr>\n      <th>3</th>\n      <td>0.499180</td>\n      <td>0.561680</td>\n      <td>-0.737946</td>\n      <td>0.518260</td>\n      <td>0.495814</td>\n      <td>-0.707827</td>\n      <td>0.532650</td>\n      <td>0.491957</td>\n      <td>-0.707701</td>\n      <td>0.546015</td>\n      <td>...</td>\n      <td>0.086125</td>\n      <td>0.555374</td>\n      <td>2.960517</td>\n      <td>-0.262226</td>\n      <td>0.411628</td>\n      <td>2.966175</td>\n      <td>-0.381353</td>\n      <td>1</td>\n      <td>0</td>\n      <td>Drop an elbow</td>\n    </tr>\n    <tr>\n      <th>4</th>\n      <td>0.578184</td>\n      <td>0.535424</td>\n      <td>-0.950630</td>\n      <td>0.597474</td>\n      <td>0.472747</td>\n      <td>-0.879421</td>\n      <td>0.611845</td>\n      <td>0.472694</td>\n      <td>-0.877219</td>\n      <td>0.625602</td>\n      <td>...</td>\n      <td>0.854012</td>\n      <td>0.602773</td>\n      <td>2.916028</td>\n      <td>0.155980</td>\n      <td>0.450033</td>\n      <td>2.930970</td>\n      <td>0.370374</td>\n      <td>1</td>\n      <td>0</td>\n      <td>Push Your Knee</td>\n    </tr>\n  </tbody>\n</table>\n<p>5 rows × 102 columns</p>\n</div>"
     },
     "execution_count": 1,
     "metadata": {},
     "output_type": "execute_result"
    }
   ],
   "source": [
    "import numpy as np\n",
    "import random\n",
    "import matplotlib.pyplot as plt\n",
    "import pandas as pd\n",
    "from pandas.plotting import scatter_matrix\n",
    "import os\n",
    "\n",
    "SEED = 1234\n",
    "# Set seed for reproducibility\n",
    "np.random.seed(SEED)\n",
    "random.seed(SEED)\n",
    "\n",
    "current_folder = globals()['_dh'][0]\n",
    "data_path = os.path.join(current_folder, 'data')\n",
    "csv_path = os.path.join(data_path, 'training_set.csv')\n",
    "df = pd.read_csv(csv_path, header=0) # load\n",
    "df = df.sample(frac=1).reset_index(drop=True) # shuffle\n",
    "df.head()"
   ],
   "metadata": {
    "collapsed": false,
    "ExecuteTime": {
     "start_time": "2023-08-25T02:15:07.627539Z",
     "end_time": "2023-08-25T02:15:08.860786Z"
    }
   }
  },
  {
   "cell_type": "code",
   "execution_count": 2,
   "outputs": [],
   "source": [
    "# Define X and y matrices\n",
    "X_columns = df.columns[:len(df.columns) - 1]\n",
    "X = df[X_columns].values\n",
    "y = df['INSTRUCTION'].values"
   ],
   "metadata": {
    "collapsed": false,
    "ExecuteTime": {
     "start_time": "2023-08-25T02:15:08.864761Z",
     "end_time": "2023-08-25T02:15:08.867168Z"
    }
   }
  },
  {
   "cell_type": "code",
   "execution_count": 3,
   "outputs": [
    {
     "name": "stdout",
     "output_type": "stream",
     "text": [
      "Index(['NOSE_X', 'NOSE_Y', 'NOSE_Z', 'LEFT_EYE_INNER_X', 'LEFT_EYE_INNER_Y',\n",
      "       'LEFT_EYE_INNER_Z', 'LEFT_EYE_X', 'LEFT_EYE_Y', 'LEFT_EYE_Z',\n",
      "       'LEFT_EYE_OUTER_X',\n",
      "       ...\n",
      "       'RIGHT_HEEL_Y', 'RIGHT_HEEL_Z', 'LEFT_FOOT_INDEX_X',\n",
      "       'LEFT_FOOT_INDEX_Y', 'LEFT_FOOT_INDEX_Z', 'RIGHT_FOOT_INDEX_X',\n",
      "       'RIGHT_FOOT_INDEX_Y', 'RIGHT_FOOT_INDEX_Z', 'IS_LOW_LUNGE',\n",
      "       'IS_CRESCENT_POSE'],\n",
      "      dtype='object', length=101)\n",
      "X:  (600, 101)\n",
      "y:  (600,)\n"
     ]
    }
   ],
   "source": [
    "print(X_columns)\n",
    "print (\"X: \", np.shape(X))\n",
    "print (\"y: \", np.shape(y))"
   ],
   "metadata": {
    "collapsed": false,
    "ExecuteTime": {
     "start_time": "2023-08-25T02:15:08.867411Z",
     "end_time": "2023-08-25T02:15:08.872763Z"
    }
   }
  },
  {
   "cell_type": "markdown",
   "source": [
    "# Split Data"
   ],
   "metadata": {
    "collapsed": false
   }
  },
  {
   "cell_type": "code",
   "execution_count": 4,
   "outputs": [],
   "source": [
    "import collections\n",
    "from sklearn.model_selection import train_test_split\n",
    "\n",
    "TRAIN_SIZE = 0.70\n",
    "VAL_SIZE = 0.15\n",
    "TEST_SIZE = 0.15\n",
    "TRAIN_COUNT = int(len(y) * 0.70)\n",
    "TEST_COUNT = int(len(y) - TRAIN_COUNT)\n"
   ],
   "metadata": {
    "collapsed": false,
    "ExecuteTime": {
     "start_time": "2023-08-25T02:15:08.875191Z",
     "end_time": "2023-08-25T02:15:09.897389Z"
    }
   }
  },
  {
   "cell_type": "code",
   "execution_count": 5,
   "outputs": [],
   "source": [
    "def train_val_test_split(X, y, train_size, test_size):\n",
    "    \"\"\"Split dataset into data splits.\"\"\"\n",
    "    X_train, X_, y_train, y_ = train_test_split(X, y, test_size=test_size, train_size=train_size, stratify=y)\n",
    "\n",
    "    X_val, X_test, y_val, y_test = train_test_split(X_, y_, test_size=0.5, train_size=0.5, stratify=y_)\n",
    "    return X_train, X_val, X_test, y_train, y_val, y_test"
   ],
   "metadata": {
    "collapsed": false,
    "ExecuteTime": {
     "start_time": "2023-08-25T02:15:09.900653Z",
     "end_time": "2023-08-25T02:15:09.902555Z"
    }
   }
  },
  {
   "cell_type": "code",
   "execution_count": 6,
   "outputs": [
    {
     "name": "stdout",
     "output_type": "stream",
     "text": [
      "X_train: (420, 101), y_train: (420,)\n",
      "X_val: (90, 101), y_val: (90,)\n",
      "X_test: (90, 101), y_test: (90,)\n",
      "Sample point: [ 0.51662898  0.59451157 -0.47648197  0.53160924  0.5477547  -0.3986699\n",
      "  0.54344171  0.54846144 -0.39841127  0.55465221  0.55011392 -0.39807943\n",
      "  0.49697709  0.55058587 -0.4067041   0.48455828  0.55340815 -0.40648952\n",
      "  0.47271284  0.55578554 -0.40659609  0.56496513  0.58114612 -0.06756394\n",
      "  0.45733339  0.5822652  -0.09955167  0.5383693   0.65116829 -0.36612824\n",
      "  0.49537271  0.65059447 -0.37650141  0.656829    0.84885412  0.01141141\n",
      "  0.37297991  0.85019201 -0.07071388  0.82548141  0.6482439  -0.30853003\n",
      "  0.13249227  0.68535835 -0.56832254  0.79075795  0.3068994  -0.57139653\n",
      "  0.2570056   0.33422554 -0.77595699  0.79013366  0.20868532 -0.6687066\n",
      "  0.29478174  0.26130414 -0.89249784  0.76716137  0.20266846 -0.59680468\n",
      "  0.31962317  0.26058161 -0.80426186  0.76131988  0.23850882 -0.56627983\n",
      "  0.31440723  0.28715467 -0.76308078  0.61325294  1.63374567 -0.00724168\n",
      "  0.40214783  1.64531052  0.01033962  0.60253429  2.36602402 -0.21584801\n",
      "  0.39850605  2.35382032 -0.1419358   0.61045742  3.00900698  0.02430353\n",
      "  0.41234359  3.02658057 -0.13819399  0.61141366  3.09867072  0.02173024\n",
      "  0.41242418  3.11507034 -0.15720941  0.59204209  3.19369817 -0.43893081\n",
      "  0.44222039  3.2242434  -0.66927242  1.          0.        ] → Push your knee\n"
     ]
    }
   ],
   "source": [
    "# Create data splits\n",
    "X_train, X_val, X_test, y_train, y_val, y_test = train_val_test_split(\n",
    "    X=X, y=y, train_size=TRAIN_COUNT, test_size=TEST_COUNT)\n",
    "print (f\"X_train: {X_train.shape}, y_train: {y_train.shape}\")\n",
    "print (f\"X_val: {X_val.shape}, y_val: {y_val.shape}\")\n",
    "print (f\"X_test: {X_test.shape}, y_test: {y_test.shape}\")\n",
    "print (f\"Sample point: {X_train[0]} → {y_train[0]}\")"
   ],
   "metadata": {
    "collapsed": false,
    "ExecuteTime": {
     "start_time": "2023-08-25T02:15:09.907178Z",
     "end_time": "2023-08-25T02:15:09.914363Z"
    }
   }
  },
  {
   "cell_type": "code",
   "execution_count": 7,
   "outputs": [
    {
     "name": "stdout",
     "output_type": "stream",
     "text": [
      "classes: ['0', 'Arch your back', 'Drop an elbow', 'Have a drink', 'Push Your Knee', 'Push your knee', 'Put hands on knee', 'Raise your hands', 'Tighten tummy', 'Tighten your back', 'fingertips underneath your shoulders on', 'inhale lengthen through the sides of your waist and lift your back ribs as you exhale draw your front ribs down and', 'lower your head', 'your arms up towards the sky as you', 'your back leg knee place your hands on your front leg knee and press your torso']\n"
     ]
    }
   ],
   "source": [
    "from sklearn.preprocessing import LabelEncoder\n",
    "# Output vectorizer\n",
    "label_encoder = LabelEncoder()\n",
    "# Fit on train data\n",
    "label_encoder = label_encoder.fit(y_train)\n",
    "classes = list(label_encoder.classes_)\n",
    "print (f\"classes: {classes}\")"
   ],
   "metadata": {
    "collapsed": false,
    "ExecuteTime": {
     "start_time": "2023-08-25T02:15:09.915336Z",
     "end_time": "2023-08-25T02:15:09.952831Z"
    }
   }
  },
  {
   "cell_type": "markdown",
   "source": [
    "# Label Encoding"
   ],
   "metadata": {
    "collapsed": false
   }
  },
  {
   "cell_type": "code",
   "execution_count": 8,
   "outputs": [
    {
     "name": "stdout",
     "output_type": "stream",
     "text": [
      "y_train[0]: Push your knee\n",
      "y_train[0]: 5\n"
     ]
    }
   ],
   "source": [
    "# Convert labels to tokens\n",
    "print (f\"y_train[0]: {y_train[0]}\")\n",
    "y_train = label_encoder.transform(y_train)\n",
    "y_val = label_encoder.transform(y_val)\n",
    "y_test = label_encoder.transform(y_test)\n",
    "print (f\"y_train[0]: {y_train[0]}\")"
   ],
   "metadata": {
    "collapsed": false,
    "ExecuteTime": {
     "start_time": "2023-08-25T02:15:09.923853Z",
     "end_time": "2023-08-25T02:15:09.953442Z"
    }
   }
  },
  {
   "cell_type": "code",
   "execution_count": 9,
   "outputs": [
    {
     "name": "stdout",
     "output_type": "stream",
     "text": [
      "counts: [28 28 28 28 14 28 14 28 14 14 28 56 28 56 28]\n",
      "weights: {0: 0.03571428571428571, 1: 0.03571428571428571, 2: 0.03571428571428571, 3: 0.03571428571428571, 4: 0.07142857142857142, 5: 0.03571428571428571, 6: 0.07142857142857142, 7: 0.03571428571428571, 8: 0.07142857142857142, 9: 0.07142857142857142, 10: 0.03571428571428571, 11: 0.017857142857142856, 12: 0.03571428571428571, 13: 0.017857142857142856, 14: 0.03571428571428571}\n"
     ]
    }
   ],
   "source": [
    "# Class weights\n",
    "counts = np.bincount(y_train)\n",
    "class_weights = {i: 1.0/count for i, count in enumerate(counts)}\n",
    "print (f\"counts: {counts}\\nweights: {class_weights}\")"
   ],
   "metadata": {
    "collapsed": false,
    "ExecuteTime": {
     "start_time": "2023-08-25T02:15:09.929780Z",
     "end_time": "2023-08-25T02:15:09.953704Z"
    }
   }
  },
  {
   "cell_type": "markdown",
   "source": [
    "# Standardize Data"
   ],
   "metadata": {
    "collapsed": false
   }
  },
  {
   "cell_type": "code",
   "execution_count": 10,
   "outputs": [
    {
     "name": "stdout",
     "output_type": "stream",
     "text": [
      "X_test[0]: mean: 0.0, std: 1.0\n",
      "X_test[1]: mean: 0.1, std: 1.1\n"
     ]
    }
   ],
   "source": [
    "from sklearn.preprocessing import StandardScaler\n",
    "# Standardize the data (mean=0, std=1) using training data\n",
    "X_scaler = StandardScaler().fit(X_train)\n",
    "# Apply scaler on training and test data (don't standardize outputs for classification)\n",
    "X_train = X_scaler.transform(X_train)\n",
    "X_val = X_scaler.transform(X_val)\n",
    "X_test = X_scaler.transform(X_test)\n",
    "# Check (means should be ~0 and std should be ~1)\n",
    "print (f\"X_test[0]: mean: {np.mean(X_test[:, 0], axis=0):.1f}, std: {np.std(X_test[:, 0], axis=0):.1f}\")\n",
    "print (f\"X_test[1]: mean: {np.mean(X_test[:, 1], axis=0):.1f}, std: {np.std(X_test[:, 1], axis=0):.1f}\")"
   ],
   "metadata": {
    "collapsed": false,
    "ExecuteTime": {
     "start_time": "2023-08-25T02:15:09.935918Z",
     "end_time": "2023-08-25T02:15:09.953931Z"
    }
   }
  },
  {
   "cell_type": "markdown",
   "source": [
    "# Model"
   ],
   "metadata": {
    "collapsed": false
   }
  },
  {
   "cell_type": "code",
   "execution_count": 14,
   "outputs": [
    {
     "name": "stdout",
     "output_type": "stream",
     "text": [
      "101\n",
      "404\n",
      "15\n"
     ]
    }
   ],
   "source": [
    "from torch import nn\n",
    "import torch.nn.functional as F\n",
    "INPUT_DIM = X_train.shape[1] # X is 101-dimensional\n",
    "HIDDEN_DIM = INPUT_DIM * 4 # Center-most latent space vector will have length of 404\n",
    "NUM_CLASSES = len(classes) # 16 classes\n",
    "\n",
    "print(INPUT_DIM)\n",
    "print(HIDDEN_DIM)\n",
    "print(NUM_CLASSES)"
   ],
   "metadata": {
    "collapsed": false,
    "ExecuteTime": {
     "start_time": "2023-08-25T02:18:14.725171Z",
     "end_time": "2023-08-25T02:18:14.731493Z"
    }
   }
  },
  {
   "cell_type": "code",
   "execution_count": 15,
   "outputs": [],
   "source": [
    "class MLP(nn.Module):\n",
    "    def __init__(self, input_dim, hidden_dim, num_classes):\n",
    "        super(MLP, self).__init__()\n",
    "        self.fc1 = nn.Linear(input_dim, input_dim * 2)\n",
    "        self.fc2 = nn.Linear(input_dim * 2, hidden_dim)\n",
    "        self.fc3 = nn.Linear(hidden_dim, int(hidden_dim/2))\n",
    "        self.fc4 = nn.Linear(int(hidden_dim/2), int(hidden_dim/4))\n",
    "        self.fc5 = nn.Linear(int(hidden_dim/4), int(hidden_dim/8))\n",
    "        self.fc6 = nn.Linear(int(hidden_dim/8), num_classes)\n",
    "\n",
    "    def forward(self, x_in):\n",
    "        z = F.relu(self.fc1(x_in)) # ReLU activation function added!\n",
    "        z = F.relu(self.fc2(z))\n",
    "        z = F.relu(self.fc3(z))\n",
    "        z = F.relu(self.fc4(z))\n",
    "        z = F.relu(self.fc5(z))\n",
    "        z = self.fc6(z)\n",
    "        return z"
   ],
   "metadata": {
    "collapsed": false,
    "ExecuteTime": {
     "start_time": "2023-08-25T02:20:01.458485Z",
     "end_time": "2023-08-25T02:20:01.462547Z"
    }
   }
  },
  {
   "cell_type": "code",
   "execution_count": 16,
   "outputs": [
    {
     "name": "stdout",
     "output_type": "stream",
     "text": [
      "<bound method Module.named_parameters of MLP(\n",
      "  (fc1): Linear(in_features=101, out_features=202, bias=True)\n",
      "  (fc2): Linear(in_features=202, out_features=404, bias=True)\n",
      "  (fc3): Linear(in_features=404, out_features=202, bias=True)\n",
      "  (fc4): Linear(in_features=202, out_features=101, bias=True)\n",
      "  (fc5): Linear(in_features=101, out_features=50, bias=True)\n",
      "  (fc6): Linear(in_features=50, out_features=15, bias=True)\n",
      ")>\n"
     ]
    }
   ],
   "source": [
    "# Initialize model\n",
    "model = MLP(input_dim=INPUT_DIM, hidden_dim=HIDDEN_DIM, num_classes=NUM_CLASSES)\n",
    "print (model.named_parameters)"
   ],
   "metadata": {
    "collapsed": false,
    "ExecuteTime": {
     "start_time": "2023-08-25T02:20:02.390354Z",
     "end_time": "2023-08-25T02:20:02.398772Z"
    }
   }
  },
  {
   "cell_type": "code",
   "execution_count": null,
   "outputs": [],
   "source": [],
   "metadata": {
    "collapsed": false
   }
  }
 ],
 "metadata": {
  "kernelspec": {
   "display_name": "Python 3",
   "language": "python",
   "name": "python3"
  },
  "language_info": {
   "codemirror_mode": {
    "name": "ipython",
    "version": 2
   },
   "file_extension": ".py",
   "mimetype": "text/x-python",
   "name": "python",
   "nbconvert_exporter": "python",
   "pygments_lexer": "ipython2",
   "version": "2.7.6"
  }
 },
 "nbformat": 4,
 "nbformat_minor": 0
}
