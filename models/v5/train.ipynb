{
 "cells": [
  {
   "cell_type": "markdown",
   "metadata": {
    "collapsed": false,
    "jupyter": {
     "outputs_hidden": false
    }
   },
   "source": [
    "# Setup and Load Data"
   ]
  },
  {
   "cell_type": "code",
   "execution_count": 1,
   "metadata": {
    "ExecuteTime": {
     "start_time": "2023-08-25T11:20:07.538162Z",
     "end_time": "2023-08-25T11:20:08.063589Z"
    },
    "collapsed": false,
    "jupyter": {
     "outputs_hidden": false
    }
   },
   "outputs": [
    {
     "data": {
      "text/plain": "     NOSE_X    NOSE_Y    NOSE_Z  LEFT_EYE_INNER_X  LEFT_EYE_INNER_Y  \\\n0  0.664250  0.561936 -0.137659          0.671544          0.548016   \n1  0.560756  0.224318  0.024141          0.558052          0.208963   \n2  0.574853  0.254539 -0.108502          0.571956          0.237769   \n3  0.596920  0.511822 -0.134039          0.592931          0.498291   \n4  0.558916  0.266458  0.060322          0.554904          0.251884   \n\n   LEFT_EYE_INNER_Z  LEFT_EYE_X  LEFT_EYE_Y  LEFT_EYE_Z  LEFT_EYE_OUTER_X  \\\n0         -0.129760    0.671416    0.545505   -0.129823          0.671269   \n1          0.039537    0.557472    0.208481    0.039525          0.556755   \n2         -0.097046    0.572022    0.237593   -0.097028          0.571945   \n3         -0.121171    0.592294    0.498083   -0.121174          0.591603   \n4          0.074285    0.554078    0.251557    0.074239          0.553276   \n\n   ...  RIGHT_HEEL_X  RIGHT_HEEL_Y  RIGHT_HEEL_Z  LEFT_FOOT_INDEX_X  \\\n0  ...      0.314329      0.802926     -0.017944           0.626462   \n1  ...      0.575575      0.869017     -0.000342           0.350067   \n2  ...      0.569350      0.867096      0.108748           0.344663   \n3  ...      0.251720      0.896114     -0.077121           0.578945   \n4  ...      0.290766      0.824950     -0.201505           0.635124   \n\n   LEFT_FOOT_INDEX_Y  LEFT_FOOT_INDEX_Z  RIGHT_FOOT_INDEX_X  \\\n0           0.853961           0.270256            0.358222   \n1           0.867141           0.136559            0.636051   \n2           0.861299           0.195396            0.632547   \n3           0.922929           0.192808            0.290786   \n4           0.852203           0.063335            0.348409   \n\n   RIGHT_FOOT_INDEX_Y  RIGHT_FOOT_INDEX_Z  \\\n0            0.873007           -0.081131   \n1            0.868977           -0.035078   \n2            0.870562            0.101362   \n3            0.960624           -0.145498   \n4            0.876856           -0.289554   \n\n                                         INSTRUCTION  \n0  with the ball of the back foot stacked underne...  \n1  bring palms to touch and gaze up towards your ...  \n2               press your torso up over your pelvis  \n3                       lower back down into a lunge  \n4  bring palms to touch and gaze up towards your ...  \n\n[5 rows x 100 columns]",
      "text/html": "<div>\n<style scoped>\n    .dataframe tbody tr th:only-of-type {\n        vertical-align: middle;\n    }\n\n    .dataframe tbody tr th {\n        vertical-align: top;\n    }\n\n    .dataframe thead th {\n        text-align: right;\n    }\n</style>\n<table border=\"1\" class=\"dataframe\">\n  <thead>\n    <tr style=\"text-align: right;\">\n      <th></th>\n      <th>NOSE_X</th>\n      <th>NOSE_Y</th>\n      <th>NOSE_Z</th>\n      <th>LEFT_EYE_INNER_X</th>\n      <th>LEFT_EYE_INNER_Y</th>\n      <th>LEFT_EYE_INNER_Z</th>\n      <th>LEFT_EYE_X</th>\n      <th>LEFT_EYE_Y</th>\n      <th>LEFT_EYE_Z</th>\n      <th>LEFT_EYE_OUTER_X</th>\n      <th>...</th>\n      <th>RIGHT_HEEL_X</th>\n      <th>RIGHT_HEEL_Y</th>\n      <th>RIGHT_HEEL_Z</th>\n      <th>LEFT_FOOT_INDEX_X</th>\n      <th>LEFT_FOOT_INDEX_Y</th>\n      <th>LEFT_FOOT_INDEX_Z</th>\n      <th>RIGHT_FOOT_INDEX_X</th>\n      <th>RIGHT_FOOT_INDEX_Y</th>\n      <th>RIGHT_FOOT_INDEX_Z</th>\n      <th>INSTRUCTION</th>\n    </tr>\n  </thead>\n  <tbody>\n    <tr>\n      <th>0</th>\n      <td>0.664250</td>\n      <td>0.561936</td>\n      <td>-0.137659</td>\n      <td>0.671544</td>\n      <td>0.548016</td>\n      <td>-0.129760</td>\n      <td>0.671416</td>\n      <td>0.545505</td>\n      <td>-0.129823</td>\n      <td>0.671269</td>\n      <td>...</td>\n      <td>0.314329</td>\n      <td>0.802926</td>\n      <td>-0.017944</td>\n      <td>0.626462</td>\n      <td>0.853961</td>\n      <td>0.270256</td>\n      <td>0.358222</td>\n      <td>0.873007</td>\n      <td>-0.081131</td>\n      <td>with the ball of the back foot stacked underne...</td>\n    </tr>\n    <tr>\n      <th>1</th>\n      <td>0.560756</td>\n      <td>0.224318</td>\n      <td>0.024141</td>\n      <td>0.558052</td>\n      <td>0.208963</td>\n      <td>0.039537</td>\n      <td>0.557472</td>\n      <td>0.208481</td>\n      <td>0.039525</td>\n      <td>0.556755</td>\n      <td>...</td>\n      <td>0.575575</td>\n      <td>0.869017</td>\n      <td>-0.000342</td>\n      <td>0.350067</td>\n      <td>0.867141</td>\n      <td>0.136559</td>\n      <td>0.636051</td>\n      <td>0.868977</td>\n      <td>-0.035078</td>\n      <td>bring palms to touch and gaze up towards your ...</td>\n    </tr>\n    <tr>\n      <th>2</th>\n      <td>0.574853</td>\n      <td>0.254539</td>\n      <td>-0.108502</td>\n      <td>0.571956</td>\n      <td>0.237769</td>\n      <td>-0.097046</td>\n      <td>0.572022</td>\n      <td>0.237593</td>\n      <td>-0.097028</td>\n      <td>0.571945</td>\n      <td>...</td>\n      <td>0.569350</td>\n      <td>0.867096</td>\n      <td>0.108748</td>\n      <td>0.344663</td>\n      <td>0.861299</td>\n      <td>0.195396</td>\n      <td>0.632547</td>\n      <td>0.870562</td>\n      <td>0.101362</td>\n      <td>press your torso up over your pelvis</td>\n    </tr>\n    <tr>\n      <th>3</th>\n      <td>0.596920</td>\n      <td>0.511822</td>\n      <td>-0.134039</td>\n      <td>0.592931</td>\n      <td>0.498291</td>\n      <td>-0.121171</td>\n      <td>0.592294</td>\n      <td>0.498083</td>\n      <td>-0.121174</td>\n      <td>0.591603</td>\n      <td>...</td>\n      <td>0.251720</td>\n      <td>0.896114</td>\n      <td>-0.077121</td>\n      <td>0.578945</td>\n      <td>0.922929</td>\n      <td>0.192808</td>\n      <td>0.290786</td>\n      <td>0.960624</td>\n      <td>-0.145498</td>\n      <td>lower back down into a lunge</td>\n    </tr>\n    <tr>\n      <th>4</th>\n      <td>0.558916</td>\n      <td>0.266458</td>\n      <td>0.060322</td>\n      <td>0.554904</td>\n      <td>0.251884</td>\n      <td>0.074285</td>\n      <td>0.554078</td>\n      <td>0.251557</td>\n      <td>0.074239</td>\n      <td>0.553276</td>\n      <td>...</td>\n      <td>0.290766</td>\n      <td>0.824950</td>\n      <td>-0.201505</td>\n      <td>0.635124</td>\n      <td>0.852203</td>\n      <td>0.063335</td>\n      <td>0.348409</td>\n      <td>0.876856</td>\n      <td>-0.289554</td>\n      <td>bring palms to touch and gaze up towards your ...</td>\n    </tr>\n  </tbody>\n</table>\n<p>5 rows × 100 columns</p>\n</div>"
     },
     "execution_count": 1,
     "metadata": {},
     "output_type": "execute_result"
    }
   ],
   "source": [
    "import numpy as np\n",
    "import random\n",
    "import pandas as pd\n",
    "import os\n",
    "import json\n",
    "\n",
    "SEED = 1234\n",
    "# Set seed for reproducibility\n",
    "np.random.seed(SEED)\n",
    "random.seed(SEED)\n",
    "\n",
    "current_folder = globals()['_dh'][0]\n",
    "csv_path = os.path.join(current_folder, 'training_set.csv')\n",
    "df = pd.read_csv(csv_path, header=0) # load\n",
    "df = df.sample(frac=1).reset_index(drop=True) # shuffle\n",
    "df.head()"
   ]
  },
  {
   "cell_type": "code",
   "execution_count": 2,
   "metadata": {
    "ExecuteTime": {
     "start_time": "2023-08-25T11:20:08.066631Z",
     "end_time": "2023-08-25T11:20:08.068599Z"
    },
    "collapsed": false,
    "jupyter": {
     "outputs_hidden": false
    }
   },
   "outputs": [],
   "source": [
    "# Define X and y matrices\n",
    "X_columns = df.columns[:len(df.columns) - 1]\n",
    "X = df[X_columns].values\n",
    "y = df['INSTRUCTION'].values"
   ]
  },
  {
   "cell_type": "code",
   "execution_count": 3,
   "metadata": {
    "ExecuteTime": {
     "start_time": "2023-08-25T11:20:08.070882Z",
     "end_time": "2023-08-25T11:20:08.075987Z"
    },
    "collapsed": false,
    "jupyter": {
     "outputs_hidden": false
    }
   },
   "outputs": [
    {
     "name": "stdout",
     "output_type": "stream",
     "text": [
      "Index(['NOSE_X', 'NOSE_Y', 'NOSE_Z', 'LEFT_EYE_INNER_X', 'LEFT_EYE_INNER_Y',\n",
      "       'LEFT_EYE_INNER_Z', 'LEFT_EYE_X', 'LEFT_EYE_Y', 'LEFT_EYE_Z',\n",
      "       'LEFT_EYE_OUTER_X', 'LEFT_EYE_OUTER_Y', 'LEFT_EYE_OUTER_Z',\n",
      "       'RIGHT_EYE_INNER_X', 'RIGHT_EYE_INNER_Y', 'RIGHT_EYE_INNER_Z',\n",
      "       'RIGHT_EYE_X', 'RIGHT_EYE_Y', 'RIGHT_EYE_Z', 'RIGHT_EYE_OUTER_X',\n",
      "       'RIGHT_EYE_OUTER_Y', 'RIGHT_EYE_OUTER_Z', 'LEFT_EAR_X', 'LEFT_EAR_Y',\n",
      "       'LEFT_EAR_Z', 'RIGHT_EAR_X', 'RIGHT_EAR_Y', 'RIGHT_EAR_Z',\n",
      "       'MOUTH_LEFT_X', 'MOUTH_LEFT_Y', 'MOUTH_LEFT_Z', 'MOUTH_RIGHT_X',\n",
      "       'MOUTH_RIGHT_Y', 'MOUTH_RIGHT_Z', 'LEFT_SHOULDER_X', 'LEFT_SHOULDER_Y',\n",
      "       'LEFT_SHOULDER_Z', 'RIGHT_SHOULDER_X', 'RIGHT_SHOULDER_Y',\n",
      "       'RIGHT_SHOULDER_Z', 'LEFT_ELBOW_X', 'LEFT_ELBOW_Y', 'LEFT_ELBOW_Z',\n",
      "       'RIGHT_ELBOW_X', 'RIGHT_ELBOW_Y', 'RIGHT_ELBOW_Z', 'LEFT_WRIST_X',\n",
      "       'LEFT_WRIST_Y', 'LEFT_WRIST_Z', 'RIGHT_WRIST_X', 'RIGHT_WRIST_Y',\n",
      "       'RIGHT_WRIST_Z', 'LEFT_PINKY_X', 'LEFT_PINKY_Y', 'LEFT_PINKY_Z',\n",
      "       'RIGHT_PINKY_X', 'RIGHT_PINKY_Y', 'RIGHT_PINKY_Z', 'LEFT_INDEX_X',\n",
      "       'LEFT_INDEX_Y', 'LEFT_INDEX_Z', 'RIGHT_INDEX_X', 'RIGHT_INDEX_Y',\n",
      "       'RIGHT_INDEX_Z', 'LEFT_THUMB_X', 'LEFT_THUMB_Y', 'LEFT_THUMB_Z',\n",
      "       'RIGHT_THUMB_X', 'RIGHT_THUMB_Y', 'RIGHT_THUMB_Z', 'LEFT_HIP_X',\n",
      "       'LEFT_HIP_Y', 'LEFT_HIP_Z', 'RIGHT_HIP_X', 'RIGHT_HIP_Y', 'RIGHT_HIP_Z',\n",
      "       'LEFT_KNEE_X', 'LEFT_KNEE_Y', 'LEFT_KNEE_Z', 'RIGHT_KNEE_X',\n",
      "       'RIGHT_KNEE_Y', 'RIGHT_KNEE_Z', 'LEFT_ANKLE_X', 'LEFT_ANKLE_Y',\n",
      "       'LEFT_ANKLE_Z', 'RIGHT_ANKLE_X', 'RIGHT_ANKLE_Y', 'RIGHT_ANKLE_Z',\n",
      "       'LEFT_HEEL_X', 'LEFT_HEEL_Y', 'LEFT_HEEL_Z', 'RIGHT_HEEL_X',\n",
      "       'RIGHT_HEEL_Y', 'RIGHT_HEEL_Z', 'LEFT_FOOT_INDEX_X',\n",
      "       'LEFT_FOOT_INDEX_Y', 'LEFT_FOOT_INDEX_Z', 'RIGHT_FOOT_INDEX_X',\n",
      "       'RIGHT_FOOT_INDEX_Y', 'RIGHT_FOOT_INDEX_Z'],\n",
      "      dtype='object')\n",
      "X:  (729, 99)\n",
      "y:  (729,)\n"
     ]
    }
   ],
   "source": [
    "print(X_columns)\n",
    "print (\"X: \", np.shape(X))\n",
    "print (\"y: \", np.shape(y))"
   ]
  },
  {
   "cell_type": "markdown",
   "metadata": {
    "collapsed": false,
    "jupyter": {
     "outputs_hidden": false
    }
   },
   "source": [
    "# Split Data"
   ]
  },
  {
   "cell_type": "code",
   "execution_count": 4,
   "metadata": {
    "ExecuteTime": {
     "start_time": "2023-08-25T11:20:08.076170Z",
     "end_time": "2023-08-25T11:20:09.236244Z"
    },
    "collapsed": false,
    "jupyter": {
     "outputs_hidden": false
    }
   },
   "outputs": [],
   "source": [
    "import collections\n",
    "from sklearn.model_selection import train_test_split\n",
    "\n",
    "TRAIN_SIZE = 0.70\n",
    "VAL_SIZE = 0.15\n",
    "TEST_SIZE = 0.15\n",
    "TRAIN_COUNT = int(len(y) * 0.70)\n",
    "TEST_COUNT = int(len(y) - TRAIN_COUNT)\n"
   ]
  },
  {
   "cell_type": "code",
   "execution_count": 5,
   "metadata": {
    "ExecuteTime": {
     "start_time": "2023-08-25T11:20:09.243091Z",
     "end_time": "2023-08-25T11:20:09.245517Z"
    },
    "collapsed": false,
    "jupyter": {
     "outputs_hidden": false
    }
   },
   "outputs": [],
   "source": [
    "def train_val_test_split(X, y, train_size, test_size):\n",
    "    \"\"\"Split dataset into data splits.\"\"\"\n",
    "    X_train, X_, y_train, y_ = train_test_split(X, y, test_size=test_size, train_size=train_size, stratify=y)\n",
    "\n",
    "    X_val, X_test, y_val, y_test = train_test_split(X_, y_, test_size=0.5, train_size=0.5, stratify=y_)\n",
    "    return X_train, X_val, X_test, y_train, y_val, y_test"
   ]
  },
  {
   "cell_type": "code",
   "execution_count": 6,
   "metadata": {
    "ExecuteTime": {
     "start_time": "2023-08-25T11:20:09.250009Z",
     "end_time": "2023-08-25T11:20:09.260029Z"
    },
    "collapsed": false,
    "jupyter": {
     "outputs_hidden": false
    }
   },
   "outputs": [
    {
     "name": "stdout",
     "output_type": "stream",
     "text": [
      "X_train: (510, 99), y_train: (510,)\n",
      "X_val: (109, 99), y_val: (109,)\n",
      "X_test: (110, 99), y_test: (110,)\n",
      "Sample point: [ 0.58374584  0.30351064 -0.04606228  0.57891649  0.29091662 -0.03485552\n",
      "  0.57809412  0.29115218 -0.03492584  0.57713205  0.29128557 -0.03496177\n",
      "  0.57795048  0.28996253 -0.06453244  0.57645923  0.28955355 -0.06459428\n",
      "  0.57484215  0.28907815 -0.06465759  0.56656581  0.29676032  0.02654754\n",
      "  0.56633371  0.29576176 -0.10788278  0.58047312  0.31849575 -0.02054217\n",
      "  0.57935339  0.31739712 -0.05994422  0.54215789  0.37433195  0.13993062\n",
      "  0.55963254  0.36551788 -0.19766827  0.55846107  0.50129211  0.14507739\n",
      "  0.58230489  0.50641173 -0.21043962  0.5867027   0.5865643   0.05883929\n",
      "  0.60043263  0.59536022 -0.11152534  0.59411323  0.6042276   0.05413708\n",
      "  0.60669553  0.61124247 -0.1299722   0.59558421  0.6014697   0.02849325\n",
      "  0.6069411   0.60541022 -0.11849664  0.59143674  0.59666681  0.04380295\n",
      "  0.60345578  0.6012463  -0.10452645  0.52093911  0.60665685  0.09633695\n",
      "  0.50106245  0.60911751 -0.09652336  0.6117937   0.63799745  0.19847372\n",
      "  0.43666214  0.75548393 -0.13309629  0.59147263  0.81764263  0.32625073\n",
      "  0.32510671  0.80263346 -0.11390081  0.57552648  0.84715378  0.33616367\n",
      "  0.30001715  0.80181879 -0.11244821  0.6352213   0.85759854  0.3194105\n",
      "  0.34014732  0.87649488 -0.18431967] → begin to straighten your back leg by pressing the heel back and lifting the inner thigh\n"
     ]
    }
   ],
   "source": [
    "# Create data splits\n",
    "X_train, X_val, X_test, y_train, y_val, y_test = train_val_test_split(\n",
    "    X=X, y=y, train_size=TRAIN_COUNT, test_size=TEST_COUNT)\n",
    "print (f\"X_train: {X_train.shape}, y_train: {y_train.shape}\")\n",
    "print (f\"X_val: {X_val.shape}, y_val: {y_val.shape}\")\n",
    "print (f\"X_test: {X_test.shape}, y_test: {y_test.shape}\")\n",
    "print (f\"Sample point: {X_train[0]} → {y_train[0]}\")"
   ]
  },
  {
   "cell_type": "code",
   "execution_count": 7,
   "metadata": {
    "ExecuteTime": {
     "start_time": "2023-08-25T11:20:09.262697Z",
     "end_time": "2023-08-25T11:20:09.284313Z"
    },
    "collapsed": false,
    "jupyter": {
     "outputs_hidden": false
    }
   },
   "outputs": [
    {
     "name": "stdout",
     "output_type": "stream",
     "text": [
      "{0: 'as you inhale lengthen through the sides of your waist', 1: 'begin to straighten your back leg by pressing the heel back and lifting the inner thigh', 2: 'bring one leg back one leg forward with your fingertips underneath your shoulders on the mat', 3: 'bring palms to touch and gaze up towards your hands', 4: 'come into a low lunge', 5: 'lift your back ribs as you exhale', 6: 'lift your lower belly and draw your ribs in', 7: 'lower back down into a lunge', 8: 'make sure that your feet are hips-width in distance and that your front leg shin is in a nice straight line over the top of the front foot', 9: 'perfect', 10: 'place your hands on your front leg knee', 11: 'press your torso up over your pelvis', 12: 'raise your arms up towards the sky', 13: 'squeeze your inner thighs together', 14: 'turn to your side', 15: 'with the ball of the back foot stacked underneath the heel put a little bend in your back leg knee'}\n",
      "classes: ['as you inhale lengthen through the sides of your waist', 'begin to straighten your back leg by pressing the heel back and lifting the inner thigh', 'bring one leg back one leg forward with your fingertips underneath your shoulders on the mat', 'bring palms to touch and gaze up towards your hands', 'come into a low lunge', 'lift your back ribs as you exhale', 'lift your lower belly and draw your ribs in', 'lower back down into a lunge', 'make sure that your feet are hips-width in distance and that your front leg shin is in a nice straight line over the top of the front foot', 'perfect', 'place your hands on your front leg knee', 'press your torso up over your pelvis', 'raise your arms up towards the sky', 'squeeze your inner thighs together', 'turn to your side', 'with the ball of the back foot stacked underneath the heel put a little bend in your back leg knee']\n"
     ]
    }
   ],
   "source": [
    "from sklearn.preprocessing import LabelEncoder\n",
    "# Output vectorizer\n",
    "label_encoder = LabelEncoder()\n",
    "# Fit on train data\n",
    "label_encoder = label_encoder.fit(y_train)\n",
    "classes = list(label_encoder.classes_)\n",
    "encodings = label_encoder.transform(classes)\n",
    "encodings_dict = dict(zip(encodings, classes))\n",
    "print(encodings_dict)\n",
    "print (f\"classes: {classes}\")"
   ]
  },
  {
   "cell_type": "markdown",
   "metadata": {
    "collapsed": false,
    "jupyter": {
     "outputs_hidden": false
    }
   },
   "source": [
    "# Label Encoding"
   ]
  },
  {
   "cell_type": "code",
   "execution_count": 8,
   "metadata": {
    "ExecuteTime": {
     "start_time": "2023-08-25T11:20:09.267900Z",
     "end_time": "2023-08-25T11:20:09.284614Z"
    },
    "collapsed": false,
    "jupyter": {
     "outputs_hidden": false
    }
   },
   "outputs": [
    {
     "name": "stdout",
     "output_type": "stream",
     "text": [
      "y_train[0]: begin to straighten your back leg by pressing the heel back and lifting the inner thigh\n",
      "y_train[0]: 1\n"
     ]
    }
   ],
   "source": [
    "# Convert labels to tokens\n",
    "print (f\"y_train[0]: {y_train[0]}\")\n",
    "y_train = label_encoder.transform(y_train)\n",
    "y_val = label_encoder.transform(y_val)\n",
    "y_test = label_encoder.transform(y_test)\n",
    "print (f\"y_train[0]: {y_train[0]}\")"
   ]
  },
  {
   "cell_type": "code",
   "execution_count": 9,
   "metadata": {
    "ExecuteTime": {
     "start_time": "2023-08-25T11:20:09.278892Z",
     "end_time": "2023-08-25T11:20:09.284776Z"
    },
    "collapsed": false,
    "jupyter": {
     "outputs_hidden": false
    }
   },
   "outputs": [
    {
     "name": "stdout",
     "output_type": "stream",
     "text": [
      "counts: [10 23  9 54 35 13 27  5 20 29 82 24 41 29 43 66]\n",
      "weights: {0: 0.1, 1: 0.043478260869565216, 2: 0.1111111111111111, 3: 0.018518518518518517, 4: 0.02857142857142857, 5: 0.07692307692307693, 6: 0.037037037037037035, 7: 0.2, 8: 0.05, 9: 0.034482758620689655, 10: 0.012195121951219513, 11: 0.041666666666666664, 12: 0.024390243902439025, 13: 0.034482758620689655, 14: 0.023255813953488372, 15: 0.015151515151515152}\n"
     ]
    }
   ],
   "source": [
    "# Class weights\n",
    "counts = np.bincount(y_train)\n",
    "class_weights = {i: 1.0/count for i, count in enumerate(counts)}\n",
    "print (f\"counts: {counts}\\nweights: {class_weights}\")"
   ]
  },
  {
   "cell_type": "code",
   "execution_count": 10,
   "outputs": [],
   "source": [
    "# Dump X_train so others can use it\n",
    "with open('xtrain.json', 'w') as textfile:\n",
    "    textfile.write(json.dumps(X_train.tolist()))"
   ],
   "metadata": {
    "collapsed": false,
    "ExecuteTime": {
     "start_time": "2023-08-25T11:20:09.318643Z",
     "end_time": "2023-08-25T11:20:09.352764Z"
    }
   }
  },
  {
   "cell_type": "markdown",
   "metadata": {
    "collapsed": false,
    "jupyter": {
     "outputs_hidden": false
    }
   },
   "source": [
    "# Standardize Data"
   ]
  },
  {
   "cell_type": "code",
   "execution_count": 11,
   "metadata": {
    "ExecuteTime": {
     "start_time": "2023-08-25T11:20:09.325452Z",
     "end_time": "2023-08-25T11:20:09.353091Z"
    },
    "collapsed": false,
    "jupyter": {
     "outputs_hidden": false
    }
   },
   "outputs": [
    {
     "data": {
      "text/plain": "\"SKIPPING FOR NOW - facilitate inference for demo so that inference server doesn't need to normalize the request features\""
     },
     "execution_count": 11,
     "metadata": {},
     "output_type": "execute_result"
    }
   ],
   "source": [
    "# from sklearn.preprocessing import StandardScaler\n",
    "#\n",
    "# # Standardize the data (mean=0, std=1) using training data\n",
    "# X_scaler = StandardScaler().fit(X_train)\n",
    "# # Apply scaler on training and test data (don't standardize outputs for classification)\n",
    "# X_train = X_scaler.transform(X_train)\n",
    "# X_val = X_scaler.transform(X_val)\n",
    "# X_test = X_scaler.transform(X_test)\n",
    "# # Check (means should be ~0 and std should be ~1)\n",
    "# print (f\"X_test[0]: mean: {np.mean(X_test[:, 0], axis=0):.1f}, std: {np.std(X_test[:, 0], axis=0):.1f}\")\n",
    "# print (f\"X_test[1]: mean: {np.mean(X_test[:, 1], axis=0):.1f}, std: {np.std(X_test[:, 1], axis=0):.1f}\")\n",
    "\n",
    "'''SKIPPING FOR NOW - facilitate inference for demo so that inference server doesn't need to normalize the request features'''"
   ]
  },
  {
   "cell_type": "markdown",
   "metadata": {
    "collapsed": false,
    "jupyter": {
     "outputs_hidden": false
    }
   },
   "source": [
    "# Model"
   ]
  },
  {
   "cell_type": "code",
   "execution_count": 12,
   "metadata": {
    "ExecuteTime": {
     "start_time": "2023-08-25T11:20:09.332739Z",
     "end_time": "2023-08-25T11:20:10.937509Z"
    },
    "collapsed": false,
    "jupyter": {
     "outputs_hidden": false
    }
   },
   "outputs": [
    {
     "name": "stdout",
     "output_type": "stream",
     "text": [
      "99\n",
      "396\n",
      "16\n"
     ]
    }
   ],
   "source": [
    "from torch import nn\n",
    "import torch.nn.functional as F\n",
    "INPUT_DIM = X_train.shape[1] # X is 99-dimensional\n",
    "HIDDEN_DIM = INPUT_DIM * 4 # Center-most latent space vector will have length of 396\n",
    "NUM_CLASSES = len(classes) # 16 classes\n",
    "\n",
    "print(INPUT_DIM)\n",
    "print(HIDDEN_DIM)\n",
    "print(NUM_CLASSES)"
   ]
  },
  {
   "cell_type": "code",
   "execution_count": 13,
   "metadata": {
    "ExecuteTime": {
     "start_time": "2023-08-25T11:20:10.937487Z",
     "end_time": "2023-08-25T11:20:10.945814Z"
    },
    "collapsed": false,
    "jupyter": {
     "outputs_hidden": false
    }
   },
   "outputs": [],
   "source": [
    "class MLP(nn.Module):\n",
    "    def __init__(self, input_dim, hidden_dim, num_classes):\n",
    "        super(MLP, self).__init__()\n",
    "        self.fc1 = nn.Linear(input_dim, input_dim * 2)\n",
    "        self.fc2 = nn.Linear(input_dim * 2, hidden_dim)\n",
    "        self.fc3 = nn.Linear(hidden_dim, int(hidden_dim/2))\n",
    "        self.fc4 = nn.Linear(int(hidden_dim/2), int(hidden_dim/4))\n",
    "        self.fc5 = nn.Linear(int(hidden_dim/4), int(hidden_dim/8))\n",
    "        self.fc6 = nn.Linear(int(hidden_dim/8), num_classes)\n",
    "\n",
    "    def forward(self, x_in):\n",
    "        z = F.relu(self.fc1(x_in)) # ReLU activation function added!\n",
    "        z = F.relu(self.fc2(z))\n",
    "        z = F.relu(self.fc3(z))\n",
    "        z = F.relu(self.fc4(z))\n",
    "        z = F.relu(self.fc5(z))\n",
    "        z = self.fc6(z)\n",
    "        return z"
   ]
  },
  {
   "cell_type": "code",
   "execution_count": 14,
   "metadata": {
    "ExecuteTime": {
     "start_time": "2023-08-25T11:20:10.951167Z",
     "end_time": "2023-08-25T11:20:10.956162Z"
    },
    "collapsed": false,
    "jupyter": {
     "outputs_hidden": false
    }
   },
   "outputs": [
    {
     "name": "stdout",
     "output_type": "stream",
     "text": [
      "<bound method Module.named_parameters of MLP(\n",
      "  (fc1): Linear(in_features=99, out_features=198, bias=True)\n",
      "  (fc2): Linear(in_features=198, out_features=396, bias=True)\n",
      "  (fc3): Linear(in_features=396, out_features=198, bias=True)\n",
      "  (fc4): Linear(in_features=198, out_features=99, bias=True)\n",
      "  (fc5): Linear(in_features=99, out_features=49, bias=True)\n",
      "  (fc6): Linear(in_features=49, out_features=16, bias=True)\n",
      ")>\n"
     ]
    }
   ],
   "source": [
    "# Initialize model\n",
    "model = MLP(input_dim=INPUT_DIM, hidden_dim=HIDDEN_DIM, num_classes=NUM_CLASSES)\n",
    "print (model.named_parameters)"
   ]
  },
  {
   "cell_type": "markdown",
   "metadata": {
    "collapsed": false,
    "jupyter": {
     "outputs_hidden": false
    }
   },
   "source": [
    "# Training"
   ]
  },
  {
   "cell_type": "code",
   "execution_count": 15,
   "metadata": {
    "ExecuteTime": {
     "start_time": "2023-08-25T11:20:10.960395Z",
     "end_time": "2023-08-25T11:20:10.989135Z"
    },
    "collapsed": false,
    "jupyter": {
     "outputs_hidden": false
    }
   },
   "outputs": [],
   "source": [
    "import torch\n",
    "from torch.optim import Adam\n",
    "\n",
    "LEARNING_RATE = 1e-2\n",
    "NUM_EPOCHS = 25\n",
    "BATCH_SIZE = 32\n",
    "\n",
    "# Define Loss\n",
    "class_weights_tensor = torch.Tensor(list(class_weights.values()))\n",
    "loss_fn = nn.CrossEntropyLoss(weight=class_weights_tensor)\n",
    "# Accuracy\n",
    "def accuracy_fn(y_pred, y_true):\n",
    "    n_correct = torch.eq(y_pred, y_true).sum().item()\n",
    "    accuracy = (n_correct / len(y_pred)) * 100\n",
    "    return accuracy\n",
    "# Optimizer\n",
    "optimizer = Adam(model.parameters(), lr=LEARNING_RATE)\n",
    "# Convert data to tensors\n",
    "X_train = torch.Tensor(X_train)\n",
    "y_train = torch.LongTensor(y_train)\n",
    "X_val = torch.Tensor(X_val)\n",
    "y_val = torch.LongTensor(y_val)\n",
    "X_test = torch.Tensor(X_test)\n",
    "y_test = torch.LongTensor(y_test)"
   ]
  },
  {
   "cell_type": "code",
   "execution_count": 16,
   "metadata": {
    "ExecuteTime": {
     "start_time": "2023-08-25T11:20:10.969195Z",
     "end_time": "2023-08-25T11:20:12.261351Z"
    },
    "collapsed": false,
    "jupyter": {
     "outputs_hidden": false
    }
   },
   "outputs": [
    {
     "name": "stdout",
     "output_type": "stream",
     "text": [
      "Epoch: 0 | loss: 2.78, accuracy: 1.0\n",
      "Epoch: 10 | loss: 2.57, accuracy: 3.7\n",
      "Epoch: 20 | loss: 2.27, accuracy: 27.5\n",
      "Epoch: 30 | loss: 2.11, accuracy: 24.7\n",
      "Epoch: 40 | loss: 2.01, accuracy: 8.6\n",
      "Epoch: 50 | loss: 1.86, accuracy: 23.1\n",
      "Epoch: 60 | loss: 1.99, accuracy: 15.3\n",
      "Epoch: 70 | loss: 1.99, accuracy: 16.1\n",
      "Epoch: 80 | loss: 2.32, accuracy: 18.6\n",
      "Epoch: 90 | loss: 1.93, accuracy: 16.5\n",
      "Epoch: 100 | loss: 1.85, accuracy: 26.5\n",
      "Epoch: 110 | loss: 1.78, accuracy: 28.0\n",
      "Epoch: 120 | loss: 1.93, accuracy: 15.3\n",
      "Epoch: 130 | loss: 1.57, accuracy: 39.6\n",
      "Epoch: 140 | loss: 1.42, accuracy: 42.7\n",
      "Epoch: 150 | loss: 1.31, accuracy: 46.3\n",
      "Epoch: 160 | loss: 1.52, accuracy: 28.0\n",
      "Epoch: 170 | loss: 1.48, accuracy: 31.4\n",
      "Epoch: 180 | loss: 1.30, accuracy: 42.4\n",
      "Epoch: 190 | loss: 1.43, accuracy: 35.1\n",
      "Epoch: 200 | loss: 1.52, accuracy: 43.9\n",
      "Epoch: 210 | loss: 1.34, accuracy: 31.6\n",
      "Epoch: 220 | loss: 1.23, accuracy: 46.9\n",
      "Epoch: 230 | loss: 1.13, accuracy: 45.9\n",
      "Epoch: 240 | loss: 1.31, accuracy: 40.4\n"
     ]
    }
   ],
   "source": [
    "# Training\n",
    "for epoch in range(NUM_EPOCHS*10):\n",
    "    # Forward pass\n",
    "    y_pred = model(X_train)\n",
    "\n",
    "    # Loss\n",
    "    loss = loss_fn(y_pred, y_train)\n",
    "\n",
    "    # Zero all gradients\n",
    "    optimizer.zero_grad()\n",
    "\n",
    "    # Backward pass\n",
    "    loss.backward()\n",
    "\n",
    "    # Update weights\n",
    "    optimizer.step()\n",
    "\n",
    "    if epoch%10==0:\n",
    "        predictions = y_pred.max(dim=1)[1] # class\n",
    "        accuracy = accuracy_fn(y_pred=predictions, y_true=y_train)\n",
    "        print (f\"Epoch: {epoch} | loss: {loss:.2f}, accuracy: {accuracy:.1f}\")"
   ]
  },
  {
   "cell_type": "markdown",
   "metadata": {
    "collapsed": false,
    "jupyter": {
     "outputs_hidden": false
    }
   },
   "source": [
    "# Evaluation"
   ]
  },
  {
   "cell_type": "code",
   "execution_count": 17,
   "metadata": {
    "ExecuteTime": {
     "start_time": "2023-08-25T11:20:12.265210Z",
     "end_time": "2023-08-25T11:20:12.268611Z"
    },
    "collapsed": false,
    "jupyter": {
     "outputs_hidden": false
    }
   },
   "outputs": [],
   "source": [
    "import json\n",
    "from sklearn.metrics import precision_recall_fscore_support\n",
    "def get_metrics(y_true, y_pred, classes):\n",
    "    \"\"\"Per-class performance metrics.\"\"\"\n",
    "    # Performance\n",
    "    performance = {\"overall\": {}, \"class\": {}}\n",
    "\n",
    "    # Overall performance\n",
    "    metrics = precision_recall_fscore_support(y_true, y_pred, average=\"weighted\")\n",
    "    performance[\"overall\"][\"precision\"] = metrics[0]\n",
    "    performance[\"overall\"][\"recall\"] = metrics[1]\n",
    "    performance[\"overall\"][\"f1\"] = metrics[2]\n",
    "    performance[\"overall\"][\"num_samples\"] = np.float64(len(y_true))\n",
    "\n",
    "    # Per-class performance\n",
    "    metrics = precision_recall_fscore_support(y_true, y_pred, average=None)\n",
    "    for i in range(len(classes)):\n",
    "        performance[\"class\"][classes[i]] = {\n",
    "            \"precision\": metrics[0][i],\n",
    "            \"recall\": metrics[1][i],\n",
    "            \"f1\": metrics[2][i],\n",
    "            \"num_samples\": np.float64(metrics[3][i]),\n",
    "        }\n",
    "\n",
    "    return performance"
   ]
  },
  {
   "cell_type": "code",
   "execution_count": 18,
   "metadata": {
    "ExecuteTime": {
     "start_time": "2023-08-25T11:20:12.271514Z",
     "end_time": "2023-08-25T11:20:12.291852Z"
    },
    "collapsed": false,
    "jupyter": {
     "outputs_hidden": false
    }
   },
   "outputs": [
    {
     "name": "stdout",
     "output_type": "stream",
     "text": [
      "{\n",
      "  \"overall\": {\n",
      "    \"precision\": 0.3510415075120958,\n",
      "    \"recall\": 0.38181818181818183,\n",
      "    \"f1\": 0.3463624885215794,\n",
      "    \"num_samples\": 110.0\n",
      "  },\n",
      "  \"class\": {\n",
      "    \"as you inhale lengthen through the sides of your waist\": {\n",
      "      \"precision\": 0.0,\n",
      "      \"recall\": 0.0,\n",
      "      \"f1\": 0.0,\n",
      "      \"num_samples\": 2.0\n",
      "    },\n",
      "    \"begin to straighten your back leg by pressing the heel back and lifting the inner thigh\": {\n",
      "      \"precision\": 0.2,\n",
      "      \"recall\": 0.6,\n",
      "      \"f1\": 0.3,\n",
      "      \"num_samples\": 5.0\n",
      "    },\n",
      "    \"bring one leg back one leg forward with your fingertips underneath your shoulders on the mat\": {\n",
      "      \"precision\": 0.0,\n",
      "      \"recall\": 0.0,\n",
      "      \"f1\": 0.0,\n",
      "      \"num_samples\": 2.0\n",
      "    },\n",
      "    \"bring palms to touch and gaze up towards your hands\": {\n",
      "      \"precision\": 0.5,\n",
      "      \"recall\": 0.4166666666666667,\n",
      "      \"f1\": 0.45454545454545453,\n",
      "      \"num_samples\": 12.0\n",
      "    },\n",
      "    \"come into a low lunge\": {\n",
      "      \"precision\": 1.0,\n",
      "      \"recall\": 0.42857142857142855,\n",
      "      \"f1\": 0.6,\n",
      "      \"num_samples\": 7.0\n",
      "    },\n",
      "    \"lift your back ribs as you exhale\": {\n",
      "      \"precision\": 0.4,\n",
      "      \"recall\": 0.6666666666666666,\n",
      "      \"f1\": 0.5,\n",
      "      \"num_samples\": 3.0\n",
      "    },\n",
      "    \"lift your lower belly and draw your ribs in\": {\n",
      "      \"precision\": 0.2222222222222222,\n",
      "      \"recall\": 0.3333333333333333,\n",
      "      \"f1\": 0.26666666666666666,\n",
      "      \"num_samples\": 6.0\n",
      "    },\n",
      "    \"lower back down into a lunge\": {\n",
      "      \"precision\": 0.5,\n",
      "      \"recall\": 1.0,\n",
      "      \"f1\": 0.6666666666666666,\n",
      "      \"num_samples\": 1.0\n",
      "    },\n",
      "    \"make sure that your feet are hips-width in distance and that your front leg shin is in a nice straight line over the top of the front foot\": {\n",
      "      \"precision\": 0.14285714285714285,\n",
      "      \"recall\": 0.5,\n",
      "      \"f1\": 0.22222222222222224,\n",
      "      \"num_samples\": 4.0\n",
      "    },\n",
      "    \"perfect\": {\n",
      "      \"precision\": 0.5555555555555556,\n",
      "      \"recall\": 0.8333333333333334,\n",
      "      \"f1\": 0.6666666666666667,\n",
      "      \"num_samples\": 6.0\n",
      "    },\n",
      "    \"place your hands on your front leg knee\": {\n",
      "      \"precision\": 0.0,\n",
      "      \"recall\": 0.0,\n",
      "      \"f1\": 0.0,\n",
      "      \"num_samples\": 18.0\n",
      "    },\n",
      "    \"press your torso up over your pelvis\": {\n",
      "      \"precision\": 0.5,\n",
      "      \"recall\": 0.6,\n",
      "      \"f1\": 0.5454545454545454,\n",
      "      \"num_samples\": 5.0\n",
      "    },\n",
      "    \"raise your arms up towards the sky\": {\n",
      "      \"precision\": 0.0,\n",
      "      \"recall\": 0.0,\n",
      "      \"f1\": 0.0,\n",
      "      \"num_samples\": 9.0\n",
      "    },\n",
      "    \"squeeze your inner thighs together\": {\n",
      "      \"precision\": 0.0,\n",
      "      \"recall\": 0.0,\n",
      "      \"f1\": 0.0,\n",
      "      \"num_samples\": 6.0\n",
      "    },\n",
      "    \"turn to your side\": {\n",
      "      \"precision\": 1.0,\n",
      "      \"recall\": 1.0,\n",
      "      \"f1\": 1.0,\n",
      "      \"num_samples\": 9.0\n",
      "    },\n",
      "    \"with the ball of the back foot stacked underneath the heel put a little bend in your back leg knee\": {\n",
      "      \"precision\": 0.4117647058823529,\n",
      "      \"recall\": 0.4666666666666667,\n",
      "      \"f1\": 0.43749999999999994,\n",
      "      \"num_samples\": 15.0\n",
      "    }\n",
      "  }\n",
      "}\n"
     ]
    },
    {
     "name": "stderr",
     "output_type": "stream",
     "text": [
      "/Users/romangurovich/ml/flowcoach-ai/model-trainer/env/lib/python3.10/site-packages/sklearn/metrics/_classification.py:1469: UndefinedMetricWarning: Precision and F-score are ill-defined and being set to 0.0 in labels with no predicted samples. Use `zero_division` parameter to control this behavior.\n",
      "  _warn_prf(average, modifier, msg_start, len(result))\n",
      "/Users/romangurovich/ml/flowcoach-ai/model-trainer/env/lib/python3.10/site-packages/sklearn/metrics/_classification.py:1469: UndefinedMetricWarning: Precision and F-score are ill-defined and being set to 0.0 in labels with no predicted samples. Use `zero_division` parameter to control this behavior.\n",
      "  _warn_prf(average, modifier, msg_start, len(result))\n"
     ]
    }
   ],
   "source": [
    "\n",
    "# Predictions\n",
    "y_prob = F.softmax(model(X_test), dim=1)\n",
    "y_pred = y_prob.max(dim=1)[1]\n",
    "# # Performance\n",
    "performance = get_metrics(y_true=y_test, y_pred=y_pred, classes=classes)\n",
    "print (json.dumps(performance, indent=2))"
   ]
  },
  {
   "cell_type": "markdown",
   "metadata": {
    "collapsed": false,
    "jupyter": {
     "outputs_hidden": false
    }
   },
   "source": [
    "# Save Model"
   ]
  },
  {
   "cell_type": "code",
   "execution_count": 19,
   "metadata": {
    "ExecuteTime": {
     "start_time": "2023-08-25T11:20:12.286669Z",
     "end_time": "2023-08-25T11:20:12.302282Z"
    },
    "collapsed": false,
    "jupyter": {
     "outputs_hidden": false
    }
   },
   "outputs": [],
   "source": [
    "model_path = os.path.join(current_folder, 'model.pt')\n",
    "LOSS = 0 # update this based on eval loss result\n",
    "\n",
    "torch.save({\n",
    "            'epoch': NUM_EPOCHS,\n",
    "            'model_state_dict': model.state_dict(),\n",
    "            'optimizer_state_dict': optimizer.state_dict(),\n",
    "            'loss': LOSS,\n",
    "            }, model_path)"
   ]
  },
  {
   "cell_type": "markdown",
   "metadata": {},
   "source": [
    "# Test Inference"
   ]
  },
  {
   "cell_type": "code",
   "execution_count": 20,
   "metadata": {
    "ExecuteTime": {
     "start_time": "2023-08-25T09:26:50.448146Z",
     "end_time": "2023-08-25T09:26:50.467720Z"
    }
   },
   "outputs": [
    {
     "name": "stdout",
     "output_type": "stream",
     "text": [
      "X_infer BEFORE scaler \n",
      " [['0.619181752204895', '0.6911794543266296', '-0.10998331010341644', '0.6264380216598511', '0.6804927587509155', '-0.10419861227273941', '0.6261811852455139', '0.6782547831535339', '-0.1042325422167778', '0.625945508480072', '0.6756752729415894', '-0.10424678772687912', '0.6264516115188599', '0.6800538897514343', '-0.13150376081466675', '0.6262511610984802', '0.6777336597442627', '-0.13151101768016815', '0.6260875463485718', '0.675041675567627', '-0.13154807686805725', '0.6201372146606445', '0.6548675894737244', '-0.051795169711112976', '0.620303750038147', '0.6536026000976562', '-0.17662544548511505', '0.6100666522979736', '0.6861775517463684', '-0.08697673678398132', '0.6096115112304688', '0.6857801675796509', '-0.12320296466350555', '0.568701982498169', '0.6446241140365601', '0.05017751082777977', '0.5783749222755432', '0.664610743522644', '-0.22450514137744904', '0.5575764179229736', '0.7595999836921692', '0.06755100190639496', '0.5626237392425537', '0.7821732759475708', '-0.2657657265663147', '0.5569267868995667', '0.8694812059402466', '0.008385587483644485', '0.5577623248100281', '0.9049117565155029', '-0.2564549148082733', '0.5585254430770874', '0.8905720710754395', '0.014106523245573044', '0.5583221912384033', '0.9359409213066101', '-0.29124900698661804', '0.5621902346611023', '0.8989065885543823', '-0.015387816354632378', '0.5640137195587158', '0.9353712201118469', '-0.26967933773994446', '0.5593881607055664', '0.8937949538230896', '-0.0051193078979849815', '0.5630022287368774', '0.9256947636604309', '-0.24932418763637543', '0.47230926156044006', '0.7130894064903259', '0.07851303368806839', '0.4597264230251312', '0.7343250513076782', '-0.078504778444767', '0.5652412176132202', '0.726948618888855', '0.16398844122886658', '0.386430561542511', '0.8467856645584106', '-0.09280657768249512', '0.5593422055244446', '0.8840472102165222', '0.249528169631958', '0.2880805432796478', '0.8574627637863159', '-0.018278133124113083', '0.5505266785621643', '0.9093505144119263', '0.25413501262664795', '0.27035871148109436', '0.8510653376579285', '-0.011023366823792458', '0.5984134078025818', '0.9152268767356873', '0.24400381743907928', '0.297573983669281', '0.9324617385864258', '-0.051492173224687576', '1', '0', '0']]\n",
      "X_infer \n",
      " [['0.619181752204895', '0.6911794543266296', '-0.10998331010341644', '0.6264380216598511', '0.6804927587509155', '-0.10419861227273941', '0.6261811852455139', '0.6782547831535339', '-0.1042325422167778', '0.625945508480072', '0.6756752729415894', '-0.10424678772687912', '0.6264516115188599', '0.6800538897514343', '-0.13150376081466675', '0.6262511610984802', '0.6777336597442627', '-0.13151101768016815', '0.6260875463485718', '0.675041675567627', '-0.13154807686805725', '0.6201372146606445', '0.6548675894737244', '-0.051795169711112976', '0.620303750038147', '0.6536026000976562', '-0.17662544548511505', '0.6100666522979736', '0.6861775517463684', '-0.08697673678398132', '0.6096115112304688', '0.6857801675796509', '-0.12320296466350555', '0.568701982498169', '0.6446241140365601', '0.05017751082777977', '0.5783749222755432', '0.664610743522644', '-0.22450514137744904', '0.5575764179229736', '0.7595999836921692', '0.06755100190639496', '0.5626237392425537', '0.7821732759475708', '-0.2657657265663147', '0.5569267868995667', '0.8694812059402466', '0.008385587483644485', '0.5577623248100281', '0.9049117565155029', '-0.2564549148082733', '0.5585254430770874', '0.8905720710754395', '0.014106523245573044', '0.5583221912384033', '0.9359409213066101', '-0.29124900698661804', '0.5621902346611023', '0.8989065885543823', '-0.015387816354632378', '0.5640137195587158', '0.9353712201118469', '-0.26967933773994446', '0.5593881607055664', '0.8937949538230896', '-0.0051193078979849815', '0.5630022287368774', '0.9256947636604309', '-0.24932418763637543', '0.47230926156044006', '0.7130894064903259', '0.07851303368806839', '0.4597264230251312', '0.7343250513076782', '-0.078504778444767', '0.5652412176132202', '0.726948618888855', '0.16398844122886658', '0.386430561542511', '0.8467856645584106', '-0.09280657768249512', '0.5593422055244446', '0.8840472102165222', '0.249528169631958', '0.2880805432796478', '0.8574627637863159', '-0.018278133124113083', '0.5505266785621643', '0.9093505144119263', '0.25413501262664795', '0.27035871148109436', '0.8510653376579285', '-0.011023366823792458', '0.5984134078025818', '0.9152268767356873', '0.24400381743907928', '0.297573983669281', '0.9324617385864258', '-0.051492173224687576', '1', '0', '0']]\n"
     ]
    },
    {
     "ename": "ValueError",
     "evalue": "too many dimensions 'str'",
     "output_type": "error",
     "traceback": [
      "\u001B[0;31m---------------------------------------------------------------------------\u001B[0m",
      "\u001B[0;31mValueError\u001B[0m                                Traceback (most recent call last)",
      "Cell \u001B[0;32mIn[20], line 17\u001B[0m\n\u001B[1;32m     15\u001B[0m \u001B[38;5;28mprint\u001B[39m(\u001B[38;5;124m'\u001B[39m\u001B[38;5;124mX_infer \u001B[39m\u001B[38;5;130;01m\\n\u001B[39;00m\u001B[38;5;124m'\u001B[39m, X_infer)\n\u001B[1;32m     16\u001B[0m \u001B[38;5;66;03m# Predict\u001B[39;00m\n\u001B[0;32m---> 17\u001B[0m y_infer \u001B[38;5;241m=\u001B[39m F\u001B[38;5;241m.\u001B[39msoftmax(model(\u001B[43mtorch\u001B[49m\u001B[38;5;241;43m.\u001B[39;49m\u001B[43mTensor\u001B[49m\u001B[43m(\u001B[49m\u001B[43mX_infer\u001B[49m\u001B[43m)\u001B[49m), dim\u001B[38;5;241m=\u001B[39m\u001B[38;5;241m1\u001B[39m)\n\u001B[1;32m     18\u001B[0m \u001B[38;5;28mprint\u001B[39m(\u001B[38;5;124m\"\u001B[39m\u001B[38;5;124my!!!\u001B[39m\u001B[38;5;124m\"\u001B[39m, y_infer)\n\u001B[1;32m     19\u001B[0m prob, _class \u001B[38;5;241m=\u001B[39m y_infer\u001B[38;5;241m.\u001B[39mmax(dim\u001B[38;5;241m=\u001B[39m\u001B[38;5;241m1\u001B[39m)\n",
      "\u001B[0;31mValueError\u001B[0m: too many dimensions 'str'"
     ]
    }
   ],
   "source": [
    "raw='0.619181752204895,0.6911794543266296,-0.10998331010341644,0.6264380216598511,0.6804927587509155,-0.10419861227273941,0.6261811852455139,0.6782547831535339,-0.1042325422167778,0.625945508480072,0.6756752729415894,-0.10424678772687912,0.6264516115188599,0.6800538897514343,-0.13150376081466675,0.6262511610984802,0.6777336597442627,-0.13151101768016815,0.6260875463485718,0.675041675567627,-0.13154807686805725,0.6201372146606445,0.6548675894737244,-0.051795169711112976,0.620303750038147,0.6536026000976562,-0.17662544548511505,0.6100666522979736,0.6861775517463684,-0.08697673678398132,0.6096115112304688,0.6857801675796509,-0.12320296466350555,0.568701982498169,0.6446241140365601,0.05017751082777977,0.5783749222755432,0.664610743522644,-0.22450514137744904,0.5575764179229736,0.7595999836921692,0.06755100190639496,0.5626237392425537,0.7821732759475708,-0.2657657265663147,0.5569267868995667,0.8694812059402466,0.008385587483644485,0.5577623248100281,0.9049117565155029,-0.2564549148082733,0.5585254430770874,0.8905720710754395,0.014106523245573044,0.5583221912384033,0.9359409213066101,-0.29124900698661804,0.5621902346611023,0.8989065885543823,-0.015387816354632378,0.5640137195587158,0.9353712201118469,-0.26967933773994446,0.5593881607055664,0.8937949538230896,-0.0051193078979849815,0.5630022287368774,0.9256947636604309,-0.24932418763637543,0.47230926156044006,0.7130894064903259,0.07851303368806839,0.4597264230251312,0.7343250513076782,-0.078504778444767,0.5652412176132202,0.726948618888855,0.16398844122886658,0.386430561542511,0.8467856645584106,-0.09280657768249512,0.5593422055244446,0.8840472102165222,0.249528169631958,0.2880805432796478,0.8574627637863159,-0.018278133124113083,0.5505266785621643,0.9093505144119263,0.25413501262664795,0.27035871148109436,0.8510653376579285,-0.011023366823792458,0.5984134078025818,0.9152268767356873,0.24400381743907928,0.297573983669281,0.9324617385864258,-0.051492173224687576,1,0,0'\n",
    "sample = raw.split(',')\n",
    "\n",
    "# column_headers = df.columns.tolist()\n",
    "# column_headers.pop()\n",
    "\n",
    "# sample = [{header: float(ok[i])} for i, header in enumerate(column_headers)]\n",
    "# X_infer = pd.DataFrame(sample) # all 99 features\n",
    "X_infer = [sample]\n",
    "print('X_infer BEFORE scaler \\n', X_infer)\n",
    "\n",
    "# Standardize\n",
    "\n",
    "# X_infer = X_scaler.transform(X_infer) #TODO: Add back later\n",
    "print('X_infer \\n', X_infer)\n",
    "# Predict\n",
    "y_infer = F.softmax(model(torch.Tensor(X_infer)), dim=1)\n",
    "print(\"y!!!\", y_infer)\n",
    "prob, _class = y_infer.max(dim=1)\n",
    "label = label_encoder.inverse_transform(_class.detach().numpy())[0]\n",
    "print (f\"{label} is {prob.detach().numpy()[0]*100}.\")"
   ]
  }
 ],
 "metadata": {
  "kernelspec": {
   "display_name": "Python 3 (ipykernel)",
   "language": "python",
   "name": "python3"
  },
  "language_info": {
   "codemirror_mode": {
    "name": "ipython",
    "version": 3
   },
   "file_extension": ".py",
   "mimetype": "text/x-python",
   "name": "python",
   "nbconvert_exporter": "python",
   "pygments_lexer": "ipython3",
   "version": "3.11.4"
  }
 },
 "nbformat": 4,
 "nbformat_minor": 4
}
